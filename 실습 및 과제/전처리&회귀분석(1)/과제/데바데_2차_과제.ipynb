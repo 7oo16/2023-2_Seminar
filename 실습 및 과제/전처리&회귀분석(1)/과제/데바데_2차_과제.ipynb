{
 "cells": [
  {
   "cell_type": "code",
   "execution_count": 1,
   "id": "ac45e39d",
   "metadata": {},
   "outputs": [],
   "source": [
    "import requests\n",
    "from bs4 import BeautifulSoup\n",
    "import nltk\n",
    "from nltk.corpus import stopwords\n",
    "from nltk.tokenize import word_tokenize, sent_tokenize\n",
    "from collections import Counter"
   ]
  },
  {
   "cell_type": "code",
   "execution_count": 2,
   "id": "c2d711b7",
   "metadata": {},
   "outputs": [],
   "source": [
    "# 뉴스 기사 URL\n",
    "url = \"https://newsis.com/view/?id=NISX20230919_0002455273&cID=13004&pID=13100\""
   ]
  },
  {
   "cell_type": "code",
   "execution_count": 3,
   "id": "251733c4",
   "metadata": {},
   "outputs": [],
   "source": [
    "# HTTP GET 요청을 보내고 페이지 내용을 가져옴\n",
    "response = requests.get(url)\n",
    "html = response.text"
   ]
  },
  {
   "cell_type": "code",
   "execution_count": 4,
   "id": "ff3512d1",
   "metadata": {},
   "outputs": [],
   "source": [
    "# BeautifulSoup을 사용하여 HTML 파싱\n",
    "soup = BeautifulSoup(html, 'html.parser')"
   ]
  },
  {
   "cell_type": "code",
   "execution_count": 5,
   "id": "20d8538f",
   "metadata": {},
   "outputs": [],
   "source": [
    "# 뉴스 기사 텍스트 추출\n",
    "article_text = \"\"\n",
    "for p in soup.find_all('p'):\n",
    "    article_text += p.get_text()"
   ]
  },
  {
   "cell_type": "code",
   "execution_count": 6,
   "id": "21ee1307",
   "metadata": {},
   "outputs": [],
   "source": [
    "# 텍스트 데이터 정제 (특수 문자 및 불필요한 공백 제거)\n",
    "article_text = ' '.join(article_text.split())"
   ]
  },
  {
   "cell_type": "code",
   "execution_count": 8,
   "id": "50d22cec",
   "metadata": {},
   "outputs": [
    {
     "name": "stderr",
     "output_type": "stream",
     "text": [
      "[nltk_data] Downloading package punkt to\n",
      "[nltk_data]     /Users/gayeongkim/nltk_data...\n",
      "[nltk_data]   Unzipping tokenizers/punkt.zip.\n"
     ]
    }
   ],
   "source": [
    "# 문장 토큰화\n",
    "nltk.download('punkt')\n",
    "sentences = sent_tokenize(article_text)"
   ]
  },
  {
   "cell_type": "code",
   "execution_count": 9,
   "id": "c02dbe36",
   "metadata": {},
   "outputs": [
    {
     "name": "stderr",
     "output_type": "stream",
     "text": [
      "[nltk_data] Downloading package punkt to\n",
      "[nltk_data]     /Users/gayeongkim/nltk_data...\n",
      "[nltk_data]   Package punkt is already up-to-date!\n",
      "[nltk_data] Downloading package stopwords to\n",
      "[nltk_data]     /Users/gayeongkim/nltk_data...\n",
      "[nltk_data]   Unzipping corpora/stopwords.zip.\n"
     ]
    }
   ],
   "source": [
    "# 단어 토큰화 및 불용어 제거\n",
    "nltk.download('punkt')\n",
    "nltk.download('stopwords')\n",
    "stop_words = set(stopwords.words('english'))\n",
    "words = word_tokenize(article_text.lower())\n",
    "filtered_words = [word for word in words if word.isalnum() and word not in stop_words]"
   ]
  },
  {
   "cell_type": "code",
   "execution_count": 10,
   "id": "26e3deca",
   "metadata": {},
   "outputs": [],
   "source": [
    "# 가장 빈도가 높은 단어 10개 찾기\n",
    "word_counts = Counter(filtered_words)\n",
    "top_10_words = word_counts.most_common(10)"
   ]
  },
  {
   "cell_type": "code",
   "execution_count": 11,
   "id": "f9d3ceb6",
   "metadata": {},
   "outputs": [],
   "source": [
    "# 뉴스 기사의 길이 (단어 수) 계산\n",
    "article_length = len(filtered_words)"
   ]
  },
  {
   "cell_type": "code",
   "execution_count": 12,
   "id": "4955e122",
   "metadata": {},
   "outputs": [],
   "source": [
    "# 문장의 평균 길이 계산\n",
    "average_sentence_length = article_length / len(sentences)"
   ]
  },
  {
   "cell_type": "code",
   "execution_count": 13,
   "id": "65cf1e8e",
   "metadata": {},
   "outputs": [],
   "source": [
    "# 긍정적인 단어와 부정적인 단어 목록 정의\n",
    "positive_words = [\"good\", \"happy\", \"excellent\"]\n",
    "negative_words = [\"bad\", \"sad\", \"terrible\"]"
   ]
  },
  {
   "cell_type": "code",
   "execution_count": 14,
   "id": "e3d030fc",
   "metadata": {},
   "outputs": [],
   "source": [
    "# 긍정적인 단어와 부정적인 단어의 빈도 계산\n",
    "positive_word_count = sum(word_counts[word] for word in positive_words)\n",
    "negative_word_count = sum(word_counts[word] for word in negative_words)"
   ]
  },
  {
   "cell_type": "code",
   "execution_count": 15,
   "id": "2f03ffee",
   "metadata": {},
   "outputs": [
    {
     "name": "stderr",
     "output_type": "stream",
     "text": [
      "[nltk_data] Downloading package averaged_perceptron_tagger to\n",
      "[nltk_data]     /Users/gayeongkim/nltk_data...\n",
      "[nltk_data]   Unzipping taggers/averaged_perceptron_tagger.zip.\n",
      "[nltk_data] Downloading package wordnet to\n",
      "[nltk_data]     /Users/gayeongkim/nltk_data...\n"
     ]
    }
   ],
   "source": [
    "# 가장 많이 등장하는 명사 찾기\n",
    "nltk.download('averaged_perceptron_tagger')\n",
    "nltk.download('wordnet')\n",
    "from nltk.corpus import wordnet\n",
    "from nltk.stem import WordNetLemmatizer\n",
    "\n",
    "lemmatizer = WordNetLemmatizer()"
   ]
  },
  {
   "cell_type": "code",
   "execution_count": 16,
   "id": "dbfc713a",
   "metadata": {},
   "outputs": [],
   "source": [
    "# 명사 추출\n",
    "nouns = [word for word, pos in nltk.pos_tag(filtered_words) if pos.startswith('N')]"
   ]
  },
  {
   "cell_type": "code",
   "execution_count": 17,
   "id": "867c8506",
   "metadata": {},
   "outputs": [],
   "source": [
    "# 명사들을 원형으로 변환\n",
    "nouns = [lemmatizer.lemmatize(word, wordnet.NOUN) for word in nouns]"
   ]
  },
  {
   "cell_type": "code",
   "execution_count": 18,
   "id": "41f47e8a",
   "metadata": {},
   "outputs": [],
   "source": [
    "# 가장 많이 등장하는 명사 찾기\n",
    "noun_counts = Counter(nouns)\n",
    "top_nouns = noun_counts.most_common(10)"
   ]
  },
  {
   "cell_type": "code",
   "execution_count": 19,
   "id": "c9bb6bda",
   "metadata": {},
   "outputs": [
    {
     "name": "stdout",
     "output_type": "stream",
     "text": [
      "가장 빈도가 높은 단어 10개:\n",
      "이재명: 6\n",
      "전: 6\n",
      "시작: 6\n",
      "첨단산업: 6\n",
      "클러스터에: 6\n",
      "반도체: 6\n",
      "산단: 6\n",
      "예타: 6\n",
      "면제: 6\n",
      "간: 5\n",
      "\n",
      "뉴스 기사의 길이 (단어 수): 1008\n",
      "문장의 평균 길이: 56.00\n",
      "긍정적인 단어 빈도: 0\n",
      "부정적인 단어 빈도: 0\n",
      "\n",
      "가장 많이 등장하는 명사 10개:\n",
      "이재명: 6\n",
      "전: 6\n",
      "시작: 6\n",
      "첨단산업: 6\n",
      "클러스터에: 6\n",
      "반도체: 6\n",
      "산단: 6\n",
      "예타: 6\n",
      "면제: 6\n",
      "간: 5\n"
     ]
    }
   ],
   "source": [
    "# 결과 출력\n",
    "print(\"가장 빈도가 높은 단어 10개:\")\n",
    "for word, count in top_10_words:\n",
    "    print(f\"{word}: {count}\")\n",
    "\n",
    "print(f\"\\n뉴스 기사의 길이 (단어 수): {article_length}\")\n",
    "print(f\"문장의 평균 길이: {average_sentence_length:.2f}\")\n",
    "print(f\"긍정적인 단어 빈도: {positive_word_count}\")\n",
    "print(f\"부정적인 단어 빈도: {negative_word_count}\")\n",
    "\n",
    "print(\"\\n가장 많이 등장하는 명사 10개:\")\n",
    "for noun, count in top_nouns:\n",
    "    print(f\"{noun}: {count}\")"
   ]
  },
  {
   "cell_type": "code",
   "execution_count": null,
   "id": "b57f4c0b",
   "metadata": {},
   "outputs": [],
   "source": []
  }
 ],
 "metadata": {
  "kernelspec": {
   "display_name": "Python 3 (ipykernel)",
   "language": "python",
   "name": "python3"
  },
  "language_info": {
   "codemirror_mode": {
    "name": "ipython",
    "version": 3
   },
   "file_extension": ".py",
   "mimetype": "text/x-python",
   "name": "python",
   "nbconvert_exporter": "python",
   "pygments_lexer": "ipython3",
   "version": "3.10.9"
  }
 },
 "nbformat": 4,
 "nbformat_minor": 5
}
