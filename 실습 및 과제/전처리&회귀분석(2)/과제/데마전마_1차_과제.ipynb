{
 "cells": [
  {
   "cell_type": "markdown",
   "id": "98f42435",
   "metadata": {},
   "source": [
    "# 1번"
   ]
  },
  {
   "cell_type": "code",
   "execution_count": 1,
   "id": "123761cf",
   "metadata": {},
   "outputs": [
    {
     "name": "stdout",
     "output_type": "stream",
     "text": [
      "Requirement already satisfied: pandas-datareader in c:\\users\\linab\\anaconda3\\lib\\site-packages (0.10.0)\n",
      "Requirement already satisfied: requests>=2.19.0 in c:\\users\\linab\\anaconda3\\lib\\site-packages (from pandas-datareader) (2.31.0)\n",
      "Requirement already satisfied: lxml in c:\\users\\linab\\anaconda3\\lib\\site-packages (from pandas-datareader) (4.9.1)\n",
      "Requirement already satisfied: pandas>=0.23 in c:\\users\\linab\\anaconda3\\lib\\site-packages (from pandas-datareader) (1.5.3)\n",
      "Requirement already satisfied: numpy>=1.21.0 in c:\\users\\linab\\anaconda3\\lib\\site-packages (from pandas>=0.23->pandas-datareader) (1.23.5)\n",
      "Requirement already satisfied: pytz>=2020.1 in c:\\users\\linab\\anaconda3\\lib\\site-packages (from pandas>=0.23->pandas-datareader) (2022.7)\n",
      "Requirement already satisfied: python-dateutil>=2.8.1 in c:\\users\\linab\\anaconda3\\lib\\site-packages (from pandas>=0.23->pandas-datareader) (2.8.2)\n",
      "Requirement already satisfied: charset-normalizer<4,>=2 in c:\\users\\linab\\anaconda3\\lib\\site-packages (from requests>=2.19.0->pandas-datareader) (2.0.4)\n",
      "Requirement already satisfied: urllib3<3,>=1.21.1 in c:\\users\\linab\\anaconda3\\lib\\site-packages (from requests>=2.19.0->pandas-datareader) (1.26.14)\n",
      "Requirement already satisfied: certifi>=2017.4.17 in c:\\users\\linab\\anaconda3\\lib\\site-packages (from requests>=2.19.0->pandas-datareader) (2022.12.7)\n",
      "Requirement already satisfied: idna<4,>=2.5 in c:\\users\\linab\\anaconda3\\lib\\site-packages (from requests>=2.19.0->pandas-datareader) (3.4)\n",
      "Requirement already satisfied: six>=1.5 in c:\\users\\linab\\anaconda3\\lib\\site-packages (from python-dateutil>=2.8.1->pandas>=0.23->pandas-datareader) (1.16.0)\n",
      "Requirement already satisfied: yfinance in c:\\users\\linab\\anaconda3\\lib\\site-packages (0.2.28)\n",
      "Requirement already satisfied: beautifulsoup4>=4.11.1 in c:\\users\\linab\\anaconda3\\lib\\site-packages (from yfinance) (4.12.2)\n",
      "Requirement already satisfied: frozendict>=2.3.4 in c:\\users\\linab\\anaconda3\\lib\\site-packages (from yfinance) (2.3.8)\n",
      "Requirement already satisfied: appdirs>=1.4.4 in c:\\users\\linab\\anaconda3\\lib\\site-packages (from yfinance) (1.4.4)\n",
      "Requirement already satisfied: lxml>=4.9.1 in c:\\users\\linab\\anaconda3\\lib\\site-packages (from yfinance) (4.9.1)\n",
      "Requirement already satisfied: pandas>=1.3.0 in c:\\users\\linab\\anaconda3\\lib\\site-packages (from yfinance) (1.5.3)\n",
      "Requirement already satisfied: html5lib>=1.1 in c:\\users\\linab\\anaconda3\\lib\\site-packages (from yfinance) (1.1)\n",
      "Requirement already satisfied: numpy>=1.16.5 in c:\\users\\linab\\anaconda3\\lib\\site-packages (from yfinance) (1.23.5)\n",
      "Requirement already satisfied: multitasking>=0.0.7 in c:\\users\\linab\\anaconda3\\lib\\site-packages (from yfinance) (0.0.11)\n",
      "Requirement already satisfied: requests>=2.31 in c:\\users\\linab\\anaconda3\\lib\\site-packages (from yfinance) (2.31.0)\n",
      "Requirement already satisfied: pytz>=2022.5 in c:\\users\\linab\\anaconda3\\lib\\site-packages (from yfinance) (2022.7)\n",
      "Requirement already satisfied: soupsieve>1.2 in c:\\users\\linab\\anaconda3\\lib\\site-packages (from beautifulsoup4>=4.11.1->yfinance) (2.3.2.post1)\n",
      "Requirement already satisfied: webencodings in c:\\users\\linab\\anaconda3\\lib\\site-packages (from html5lib>=1.1->yfinance) (0.5.1)\n",
      "Requirement already satisfied: six>=1.9 in c:\\users\\linab\\anaconda3\\lib\\site-packages (from html5lib>=1.1->yfinance) (1.16.0)\n",
      "Requirement already satisfied: python-dateutil>=2.8.1 in c:\\users\\linab\\anaconda3\\lib\\site-packages (from pandas>=1.3.0->yfinance) (2.8.2)\n",
      "Requirement already satisfied: charset-normalizer<4,>=2 in c:\\users\\linab\\anaconda3\\lib\\site-packages (from requests>=2.31->yfinance) (2.0.4)\n",
      "Requirement already satisfied: certifi>=2017.4.17 in c:\\users\\linab\\anaconda3\\lib\\site-packages (from requests>=2.31->yfinance) (2022.12.7)\n",
      "Requirement already satisfied: urllib3<3,>=1.21.1 in c:\\users\\linab\\anaconda3\\lib\\site-packages (from requests>=2.31->yfinance) (1.26.14)\n",
      "Requirement already satisfied: idna<4,>=2.5 in c:\\users\\linab\\anaconda3\\lib\\site-packages (from requests>=2.31->yfinance) (3.4)\n"
     ]
    }
   ],
   "source": [
    "!pip install pandas-datareader\n",
    "!pip install yfinance\n",
    "\n",
    "import pandas as pd\n",
    "import pandas_datareader as pdr\n",
    "import yfinance as yf\n",
    "\n",
    "AAPL = yf.Ticker(\"AAPL\")"
   ]
  },
  {
   "cell_type": "code",
   "execution_count": 2,
   "id": "0d553c15",
   "metadata": {},
   "outputs": [],
   "source": [
    "AAPL.history(period=\"max\")\n",
    "his = AAPL.history(period='max')\n",
    "close = his[\"Close\"]"
   ]
  },
  {
   "cell_type": "code",
   "execution_count": 3,
   "id": "1115c031",
   "metadata": {},
   "outputs": [
    {
     "data": {
      "text/html": [
       "<div>\n",
       "<style scoped>\n",
       "    .dataframe tbody tr th:only-of-type {\n",
       "        vertical-align: middle;\n",
       "    }\n",
       "\n",
       "    .dataframe tbody tr th {\n",
       "        vertical-align: top;\n",
       "    }\n",
       "\n",
       "    .dataframe thead th {\n",
       "        text-align: right;\n",
       "    }\n",
       "</style>\n",
       "<table border=\"1\" class=\"dataframe\">\n",
       "  <thead>\n",
       "    <tr style=\"text-align: right;\">\n",
       "      <th></th>\n",
       "      <th>Date</th>\n",
       "      <th>Close</th>\n",
       "    </tr>\n",
       "  </thead>\n",
       "  <tbody>\n",
       "    <tr>\n",
       "      <th>10407</th>\n",
       "      <td>2022-03-23</td>\n",
       "      <td>168.723618</td>\n",
       "    </tr>\n",
       "    <tr>\n",
       "      <th>10408</th>\n",
       "      <td>2022-03-24</td>\n",
       "      <td>172.549896</td>\n",
       "    </tr>\n",
       "    <tr>\n",
       "      <th>10409</th>\n",
       "      <td>2022-03-25</td>\n",
       "      <td>173.194214</td>\n",
       "    </tr>\n",
       "    <tr>\n",
       "      <th>10410</th>\n",
       "      <td>2022-03-28</td>\n",
       "      <td>174.066513</td>\n",
       "    </tr>\n",
       "    <tr>\n",
       "      <th>10411</th>\n",
       "      <td>2022-03-29</td>\n",
       "      <td>177.397186</td>\n",
       "    </tr>\n",
       "    <tr>\n",
       "      <th>...</th>\n",
       "      <td>...</td>\n",
       "      <td>...</td>\n",
       "    </tr>\n",
       "    <tr>\n",
       "      <th>10767</th>\n",
       "      <td>2023-08-29</td>\n",
       "      <td>184.119995</td>\n",
       "    </tr>\n",
       "    <tr>\n",
       "      <th>10768</th>\n",
       "      <td>2023-08-30</td>\n",
       "      <td>187.649994</td>\n",
       "    </tr>\n",
       "    <tr>\n",
       "      <th>10769</th>\n",
       "      <td>2023-08-31</td>\n",
       "      <td>187.869995</td>\n",
       "    </tr>\n",
       "    <tr>\n",
       "      <th>10770</th>\n",
       "      <td>2023-09-01</td>\n",
       "      <td>189.460007</td>\n",
       "    </tr>\n",
       "    <tr>\n",
       "      <th>10771</th>\n",
       "      <td>2023-09-05</td>\n",
       "      <td>189.699997</td>\n",
       "    </tr>\n",
       "  </tbody>\n",
       "</table>\n",
       "<p>365 rows × 2 columns</p>\n",
       "</div>"
      ],
      "text/plain": [
       "             Date       Close\n",
       "10407  2022-03-23  168.723618\n",
       "10408  2022-03-24  172.549896\n",
       "10409  2022-03-25  173.194214\n",
       "10410  2022-03-28  174.066513\n",
       "10411  2022-03-29  177.397186\n",
       "...           ...         ...\n",
       "10767  2023-08-29  184.119995\n",
       "10768  2023-08-30  187.649994\n",
       "10769  2023-08-31  187.869995\n",
       "10770  2023-09-01  189.460007\n",
       "10771  2023-09-05  189.699997\n",
       "\n",
       "[365 rows x 2 columns]"
      ]
     },
     "execution_count": 3,
     "metadata": {},
     "output_type": "execute_result"
    }
   ],
   "source": [
    "df = pd.DataFrame(close)\n",
    "df.reset_index(inplace=True)\n",
    "\n",
    "df[\"Date\"] = df[\"Date\"].astype(str).str.split().str[0]\n",
    "df\n",
    "\n",
    "df1 = df[-365:]\n",
    "df1"
   ]
  },
  {
   "cell_type": "code",
   "execution_count": 4,
   "id": "c6723e95",
   "metadata": {},
   "outputs": [],
   "source": [
    "import matplotlib. pyplot as plt\n",
    "import matplotlib\n",
    "matplotlib.rcParams['font.family'] = 'Malgun Gothic' \n",
    "matplotlib.rcParams['font.size'] = 15 \n",
    "matplotlib.rcParams['axes.unicode_minus']= False "
   ]
  },
  {
   "cell_type": "code",
   "execution_count": 5,
   "id": "54451e4b",
   "metadata": {},
   "outputs": [
    {
     "name": "stderr",
     "output_type": "stream",
     "text": [
      "C:\\Users\\linab\\AppData\\Local\\Temp\\ipykernel_6884\\3851719430.py:1: SettingWithCopyWarning: \n",
      "A value is trying to be set on a copy of a slice from a DataFrame.\n",
      "Try using .loc[row_indexer,col_indexer] = value instead\n",
      "\n",
      "See the caveats in the documentation: https://pandas.pydata.org/pandas-docs/stable/user_guide/indexing.html#returning-a-view-versus-a-copy\n",
      "  df1['30일_이동평균']=df1[\"Close\"].rolling(30).mean()\n",
      "C:\\Users\\linab\\AppData\\Local\\Temp\\ipykernel_6884\\3851719430.py:2: SettingWithCopyWarning: \n",
      "A value is trying to be set on a copy of a slice from a DataFrame.\n",
      "Try using .loc[row_indexer,col_indexer] = value instead\n",
      "\n",
      "See the caveats in the documentation: https://pandas.pydata.org/pandas-docs/stable/user_guide/indexing.html#returning-a-view-versus-a-copy\n",
      "  df1['90일_이동평균']=df1[\"Close\"].rolling(90).mean()\n"
     ]
    },
    {
     "data": {
      "text/html": [
       "<div>\n",
       "<style scoped>\n",
       "    .dataframe tbody tr th:only-of-type {\n",
       "        vertical-align: middle;\n",
       "    }\n",
       "\n",
       "    .dataframe tbody tr th {\n",
       "        vertical-align: top;\n",
       "    }\n",
       "\n",
       "    .dataframe thead th {\n",
       "        text-align: right;\n",
       "    }\n",
       "</style>\n",
       "<table border=\"1\" class=\"dataframe\">\n",
       "  <thead>\n",
       "    <tr style=\"text-align: right;\">\n",
       "      <th></th>\n",
       "      <th>Date</th>\n",
       "      <th>Close</th>\n",
       "      <th>30일_이동평균</th>\n",
       "      <th>90일_이동평균</th>\n",
       "    </tr>\n",
       "  </thead>\n",
       "  <tbody>\n",
       "    <tr>\n",
       "      <th>10407</th>\n",
       "      <td>2022-03-23</td>\n",
       "      <td>168.723618</td>\n",
       "      <td>NaN</td>\n",
       "      <td>NaN</td>\n",
       "    </tr>\n",
       "    <tr>\n",
       "      <th>10408</th>\n",
       "      <td>2022-03-24</td>\n",
       "      <td>172.549896</td>\n",
       "      <td>NaN</td>\n",
       "      <td>NaN</td>\n",
       "    </tr>\n",
       "    <tr>\n",
       "      <th>10409</th>\n",
       "      <td>2022-03-25</td>\n",
       "      <td>173.194214</td>\n",
       "      <td>NaN</td>\n",
       "      <td>NaN</td>\n",
       "    </tr>\n",
       "    <tr>\n",
       "      <th>10410</th>\n",
       "      <td>2022-03-28</td>\n",
       "      <td>174.066513</td>\n",
       "      <td>NaN</td>\n",
       "      <td>NaN</td>\n",
       "    </tr>\n",
       "    <tr>\n",
       "      <th>10411</th>\n",
       "      <td>2022-03-29</td>\n",
       "      <td>177.397186</td>\n",
       "      <td>NaN</td>\n",
       "      <td>NaN</td>\n",
       "    </tr>\n",
       "    <tr>\n",
       "      <th>...</th>\n",
       "      <td>...</td>\n",
       "      <td>...</td>\n",
       "      <td>...</td>\n",
       "      <td>...</td>\n",
       "    </tr>\n",
       "    <tr>\n",
       "      <th>10767</th>\n",
       "      <td>2023-08-29</td>\n",
       "      <td>184.119995</td>\n",
       "      <td>184.386801</td>\n",
       "      <td>180.876685</td>\n",
       "    </tr>\n",
       "    <tr>\n",
       "      <th>10768</th>\n",
       "      <td>2023-08-30</td>\n",
       "      <td>187.649994</td>\n",
       "      <td>184.147237</td>\n",
       "      <td>181.133131</td>\n",
       "    </tr>\n",
       "    <tr>\n",
       "      <th>10769</th>\n",
       "      <td>2023-08-31</td>\n",
       "      <td>187.869995</td>\n",
       "      <td>183.980585</td>\n",
       "      <td>181.388587</td>\n",
       "    </tr>\n",
       "    <tr>\n",
       "      <th>10770</th>\n",
       "      <td>2023-09-01</td>\n",
       "      <td>189.460007</td>\n",
       "      <td>183.906547</td>\n",
       "      <td>181.678995</td>\n",
       "    </tr>\n",
       "    <tr>\n",
       "      <th>10771</th>\n",
       "      <td>2023-09-05</td>\n",
       "      <td>189.699997</td>\n",
       "      <td>183.813544</td>\n",
       "      <td>181.972181</td>\n",
       "    </tr>\n",
       "  </tbody>\n",
       "</table>\n",
       "<p>365 rows × 4 columns</p>\n",
       "</div>"
      ],
      "text/plain": [
       "             Date       Close    30일_이동평균    90일_이동평균\n",
       "10407  2022-03-23  168.723618         NaN         NaN\n",
       "10408  2022-03-24  172.549896         NaN         NaN\n",
       "10409  2022-03-25  173.194214         NaN         NaN\n",
       "10410  2022-03-28  174.066513         NaN         NaN\n",
       "10411  2022-03-29  177.397186         NaN         NaN\n",
       "...           ...         ...         ...         ...\n",
       "10767  2023-08-29  184.119995  184.386801  180.876685\n",
       "10768  2023-08-30  187.649994  184.147237  181.133131\n",
       "10769  2023-08-31  187.869995  183.980585  181.388587\n",
       "10770  2023-09-01  189.460007  183.906547  181.678995\n",
       "10771  2023-09-05  189.699997  183.813544  181.972181\n",
       "\n",
       "[365 rows x 4 columns]"
      ]
     },
     "execution_count": 5,
     "metadata": {},
     "output_type": "execute_result"
    }
   ],
   "source": [
    "df1['30일_이동평균']=df1[\"Close\"].rolling(30).mean()\n",
    "df1['90일_이동평균']=df1[\"Close\"].rolling(90).mean()\n",
    "df1=df1[['Date','Close','30일_이동평균','90일_이동평균']]\n",
    "df1"
   ]
  },
  {
   "cell_type": "code",
   "execution_count": 6,
   "id": "9d788134",
   "metadata": {},
   "outputs": [
    {
     "data": {
      "text/plain": [
       "Text(0, 0.5, 'Close')"
      ]
     },
     "execution_count": 6,
     "metadata": {},
     "output_type": "execute_result"
    },
    {
     "data": {
      "image/png": "[encoded data removed]",
      "text/plain": [
       "<Figure size 640x480 with 1 Axes>"
      ]
     },
     "metadata": {},
     "output_type": "display_data"
    }
   ],
   "source": [
    "plt.plot(df1['Date'], df1['Close'])\n",
    "plt.plot(df1['Date'],df1['30일_이동평균'] ) \n",
    "plt.plot(df1['Date'],df1['90일_이동평균'] )   \n",
    "plt.title('AAPL주가변동과 이동평균')\n",
    "plt.xlabel('Date')\n",
    "plt.ylabel('Close')"
   ]
  },
  {
   "cell_type": "markdown",
   "id": "cea144cf",
   "metadata": {},
   "source": [
    "# 2번"
   ]
  },
  {
   "cell_type": "code",
   "execution_count": 7,
   "id": "2df8a9e0",
   "metadata": {},
   "outputs": [
    {
     "name": "stdout",
     "output_type": "stream",
     "text": [
      "3 * 10\n",
      "3 * 10 = 30\n"
     ]
    }
   ],
   "source": [
    "def add(a,c):\n",
    "    return a + c\n",
    "\n",
    "def sub(a,c):\n",
    "    return a - c\n",
    "\n",
    "def mul(a,c):\n",
    "    return a * c\n",
    "\n",
    "def div(a,c):\n",
    "    return a // c\n",
    "\n",
    "a, o, c = input().split()\n",
    "\n",
    "a = int(a)\n",
    "c = int(c)\n",
    "\n",
    "if o == \"+\":\n",
    "    result = add(a,c)\n",
    "elif o == \"-\":\n",
    "    result = sub(a,c)\n",
    "elif o == \"*\":\n",
    "    result = mul(a,c)\n",
    "elif o == \"/\":\n",
    "    result = div(a,c)\n",
    "else:\n",
    "    result = False\n",
    "    \n",
    "if result is False :\n",
    "    print(\"False\")\n",
    "else :\n",
    "    \n",
    "    print( a  , o , c  , \"=\" ,result)"
   ]
  }
 ],
 "metadata": {
  "kernelspec": {
   "display_name": "Python 3 (ipykernel)",
   "language": "python",
   "name": "python3"
  },
  "language_info": {
   "codemirror_mode": {
    "name": "ipython",
    "version": 3
   },
   "file_extension": ".py",
   "mimetype": "text/x-python",
   "name": "python",
   "nbconvert_exporter": "python",
   "pygments_lexer": "ipython3",
   "version": "3.10.9"
  }
 },
 "nbformat": 4,
 "nbformat_minor": 5
}
