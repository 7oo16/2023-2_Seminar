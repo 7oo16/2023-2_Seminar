{
 "cells": [
  {
   "cell_type": "markdown",
   "metadata": {},
   "source": [
    "# DAT 2주차 과제 \n",
    "뉴스 기사 텍스트 데이터 분석\n",
    "\n",
    "뉴스 기사 텍스트 데이터를 크롤링하고 분석하는 파이썬 프로그램을 작성하세요.\n"
   ]
  },
  {
   "cell_type": "markdown",
   "metadata": {},
   "source": [
    "## EX) 기사 전문\n",
    "\n",
    "\n",
    "<article id=\"dic_area\" class=\"go_trans _article_content\" style=\"-webkit-tap-highlight-color: rgba(0,0,0,0)\">\n",
    "\t\t\t<span class=\"end_photo_org\"><div class=\"nbd_im_w _LAZY_LOADING_WRAP \">\n",
    "\t<div class=\"nbd_a _LAZY_LOADING_ERROR_HIDE\" id=\"img_a1\">\n",
    "\t\t<img id=\"img1\" class=\"_LAZY_LOADING\" src=\"https://imgnews.pstatic.net/image/001/2023/09/17/AKR20230916038700505_01_i_P4_20230917074910174.jpg?type=w647\">\n",
    "\t</div>\n",
    "</div><em class=\"img_desc\">아이스 아메리카노<br>[자료 사진]</em></span><br><br>    (서울=연합뉴스) 김대호 기자 = 항공기 기내에서 제공하는 커피를 마시다 예리하고 커다란 유리 조각이 나와 승객들이 매우 놀랐다. <br><br>    17일 연합뉴스 취재를 종합하면 인천에 사는 A씨는 지난 1일 중국 광저우발 대한항공을 타고 인천공항으로 귀국하면서 기내식을 먹고 후식으로 아이스 커피를 마시다 이상한 식감을 느꼈다. 이와 입술 사이에 껴 있던 이물질을 뱉어보니 길이 0.5cm, 두께 0.1cm 이상 돼 보이는 날카로운 유리 조각이었다고 한다. 승무원이 확인한 결과 커피를 담은 유리잔이 깨진 것이었다.<br><br>    A씨는 이미 유리 조각을 삼켰을 가능성이 있어 승무원의 안내에 따라 화장실에서 음식물을 모두 토해냈다. 그는 다행히 입국 이후 별문제가 발생하지 않았지만, 추석 연휴 등을 앞두고 해외 여행객들이 늘어나는 시기여서 항공사의 안전의식 제고가 필요하다고 생각하고 항공사에 이번 일을 스스로 언론에 알리고 예방책을 마련하라고 요구했다. A씨는 보상이나 치료비도 원하지 않는다고 밝혔다. <br><br>    그러나 항공사 측은 A씨의 '언론 공개' 요구를 받아들이지 않고 치료비와 10만원 전자 우대 할인권 제공 등만 안내했다고 한다. 또 광저우에서 기내식과 기내 용품 공급을 담당한 업체를 대상으로 경위를 조사하고 있다고 밝혔다. <br><br>    A씨는 \"기내 화장실에서 음식물을 토해내면서 죽는 줄 알았다. 옆자리에 탑승한 다른 승객도 아주 걱정스러워했으며 집에 돌아와 이틀간 계속 헛구역질을 했다. 항공기 사무장이 중대 사안이라 회사에 직접 보고하겠다고 밝혔지만 이후 항공사 측에서 사과 전화 한 통 없었다\"고 주장했다.<br><br>    그는 \"커피라서 한 모금씩 마시다 유리 조각을 발견했지만 아마 음료수였으면 벌컥 마시다 삼켰을지도 모른다. 경각심 차원에서 대한항공 대표이사에게도 문제를 지적하고 대책 마련을 촉구하는 내용증명을 발송했다\"고 밝혔다. <br><br><span class=\"end_photo_org\"><div class=\"nbd_im_w _LAZY_LOADING_WRAP \">\n",
    "\t<div class=\"nbd_a _LAZY_LOADING_ERROR_HIDE\" id=\"img_a2\">\n",
    "\t\t<img id=\"img2\" class=\"_LAZY_LOADING\" src=\"https://imgnews.pstatic.net/image/001/2023/09/17/AKR20230916038700505_02_i_P4_20230917074910181.jpg?type=w647\">\n",
    "\t</div>\n",
    "</div><em class=\"img_desc\">대한항공이 고객에게 보낸 이메일<br>[제보자 A씨 제공. 재판매 및 <span data-type=\"ore\" data-lang=\"en\">DB</span> 금지]</em></span><br><br>    대한항공 관계자는 \"승객에게 사과와 함께 필요시 치료비와 전자 우대할인권 제공 등 보상에 대해 안내해드렸다. 유사사례 재발 방지를 위해 기내식 공급업체에 경위 조사를 진행하고 기내식 기물 파손 여부에 대한 검수 절차를 강화하겠다. 객실 기내 음료 서비스 전에는 맨눈으로 추가 검수 후 서비스를 제공하도록 했다\"고 설명했다. <br><br>    <span data-type=\"ore\" data-lang=\"en\">daeho</span>@<span data-type=\"ore\" data-lang=\"en\">yna.co.kr</span><br><br>\n",
    "\t\t</article>"
   ]
  },
  {
   "cell_type": "markdown",
   "metadata": {},
   "source": [
    "## 1. 원하는 기사를 찾은 후 해당 페이지 URL에서 뉴스 기사 텍스트 데이터를 크롤링하세요:"
   ]
  },
  {
   "cell_type": "code",
   "execution_count": 19,
   "metadata": {},
   "outputs": [],
   "source": [
    "import numpy as np\n",
    "import pandas as pd\n",
    "import requests\n",
    "from bs4 import BeautifulSoup\n",
    "\n",
    "import os, re\n",
    "import json\n",
    "import math\n",
    "\n",
    "# 형태소 분석기 (Okt)\n",
    "from konlpy.tag import Okt\n",
    "\n",
    "# 텍스트 수치화 (사이킷런 : TF-IDF 형태)\n",
    "from sklearn.feature_extraction.text import TfidfVectorizer , CountVectorizer \n"
   ]
  },
  {
   "cell_type": "code",
   "execution_count": 9,
   "metadata": {},
   "outputs": [
    {
     "name": "stdout",
     "output_type": "stream",
     "text": [
      "[OK!제보] 기내식 커피 마시다 '으적'…뱉어보니 깨진 유리 조각\n",
      "\n",
      "\n",
      "\n",
      "\n",
      "\n",
      "아이스 아메리카노[자료 사진]    (서울=연합뉴스) 김대호 기자 = 항공기 기내에서 제공하는 커피를 마시다 예리하고 커다란 유리 조각이 나와 승객들이 매우 놀랐다.     17일 연합뉴스 취재를 종합하면 인천에 사는 A씨는 지난 1일 중국 광저우발 대한항공을 타고 인천공항으로 귀국하면서 기내식을 먹고 후식으로 아이스 커피를 마시다 이상한 식감을 느꼈다. 이와 입술 사이에 껴 있던 이물질을 뱉어보니 길이 0.5cm, 두께 0.1cm 이상 돼 보이는 날카로운 유리 조각이었다고 한다. 승무원이 확인한 결과 커피를 담은 유리잔이 깨진 것이었다.    A씨는 이미 유리 조각을 삼켰을 가능성이 있어 승무원의 안내에 따라 화장실에서 음식물을 모두 토해냈다. 그는 다행히 입국 이후 별문제가 발생하지 않았지만, 추석 연휴 등을 앞두고 해외 여행객들이 늘어나는 시기여서 항공사의 안전의식 제고가 필요하다고 생각하고 항공사에 이번 일을 스스로 언론에 알리고 예방책을 마련하라고 요구했다. A씨는 보상이나 치료비도 원하지 않는다고 밝혔다.     그러나 항공사 측은 A씨의 '언론 공개' 요구를 받아들이지 않고 치료비와 10만원 전자 우대 할인권 제공 등만 안내했다고 한다. 또 광저우에서 기내식과 기내 용품 공급을 담당한 업체를 대상으로 경위를 조사하고 있다고 밝혔다.     A씨는 \"기내 화장실에서 음식물을 토해내면서 죽는 줄 알았다. 옆자리에 탑승한 다른 승객도 아주 걱정스러워했으며 집에 돌아와 이틀간 계속 헛구역질을 했다. 항공기 사무장이 중대 사안이라 회사에 직접 보고하겠다고 밝혔지만 이후 항공사 측에서 사과 전화 한 통 없었다\"고 주장했다.    그는 \"커피라서 한 모금씩 마시다 유리 조각을 발견했지만 아마 음료수였으면 벌컥 마시다 삼켰을지도 모른다. 경각심 차원에서 대한항공 대표이사에게도 문제를 지적하고 대책 마련을 촉구하는 내용증명을 발송했다\"고 밝혔다. \n",
      "\n",
      "\n",
      "\n",
      "대한항공이 고객에게 보낸 이메일[제보자 A씨 제공. 재판매 및 DB 금지]    대한항공 관계자는 \"승객에게 사과와 함께 필요시 치료비와 전자 우대할인권 제공 등 보상에 대해 안내해드렸다. 유사사례 재발 방지를 위해 기내식 공급업체에 경위 조사를 진행하고 기내식 기물 파손 여부에 대한 검수 절차를 강화하겠다. 객실 기내 음료 서비스 전에는 맨눈으로 추가 검수 후 서비스를 제공하도록 했다\"고 설명했다.     daeho@yna.co.kr\n",
      "\n"
     ]
    }
   ],
   "source": [
    "resp = requests.get(\"https://n.news.naver.com/mnews/hotissue/article/001/0014197318?cid=1086317&type=series&cds=news_media_pc\")\n",
    "soup = BeautifulSoup(resp.text,'html.parser')\n",
    "\n",
    "# 기사 제목\n",
    "## 태그\n",
    "title_tag = soup.find(id = \"title_area\")\n",
    "## 텍스트\n",
    "title_text = title_tag.get_text()\n",
    "print(title_text)\n",
    "\n",
    "# 기사 내용\n",
    "## 태그\n",
    "content_tag = soup.find(id=\"dic_area\")\n",
    "## 텍스트\n",
    "content_text = content_tag.get_text()\n",
    "print(content_text)"
   ]
  },
  {
   "cell_type": "markdown",
   "metadata": {},
   "source": [
    "## 2. 크롤링한 텍스트 데이터를 토큰화하고, 각 단어의 빈도를 계산하세요."
   ]
  },
  {
   "cell_type": "code",
   "execution_count": 10,
   "metadata": {},
   "outputs": [
    {
     "name": "stdout",
     "output_type": "stream",
     "text": [
      "<konlpy.tag._okt.Okt object at 0x14c820eb0>\n",
      "품사\n",
      "Noun           218\n",
      "Josa            91\n",
      "Verb            60\n",
      "Punctuation     36\n",
      "Adjective       13\n",
      "Alpha            9\n",
      "Suffix           8\n",
      "Number           5\n",
      "Modifier         3\n",
      "Foreign          2\n",
      "Adverb           2\n",
      "VerbPrefix       2\n",
      "Determiner       1\n",
      "Conjunction      1\n",
      "Email            1\n",
      "Name: count, dtype: int64\n"
     ]
    }
   ],
   "source": [
    "# 형태소 분석 객체 생성\n",
    "okt = Okt()\n",
    "print(okt)\n",
    "\n",
    "\n",
    "\n",
    "df = pd.DataFrame(okt.pos(content_text), columns = [\"단어\", \"품사\"])\n",
    "print(df[\"품사\"].value_counts())\n",
    "\n",
    "# 명사, 동사, 형용사만 포함시켜 count\n",
    "sub_df = df[df['품사'].isin([\"Noun\",\"Verb\",\"Adjective\"])]\n",
    "count_subdf = pd.DataFrame(sub_df['단어'].value_counts())"
   ]
  },
  {
   "cell_type": "markdown",
   "metadata": {},
   "source": [
    "## 3. 가장 빈도가 높은 단어 10개를 찾아 출력하세요."
   ]
  },
  {
   "cell_type": "code",
   "execution_count": 11,
   "metadata": {},
   "outputs": [
    {
     "name": "stdout",
     "output_type": "stream",
     "text": [
      "      count\n",
      "단어         \n",
      "했다        6\n",
      "씨         6\n",
      "제공        5\n",
      "기내        4\n",
      "항공사       4\n",
      "조각        4\n",
      "유리        4\n",
      "마시다       4\n",
      "대한항공      4\n",
      "커피        4\n"
     ]
    }
   ],
   "source": [
    "print(count_subdf.head(10))"
   ]
  },
  {
   "cell_type": "markdown",
   "metadata": {},
   "source": [
    "## 4. 뉴스 기사의 길이 (단어 수)를 계산하세요."
   ]
  },
  {
   "cell_type": "code",
   "execution_count": 12,
   "metadata": {},
   "outputs": [
    {
     "name": "stdout",
     "output_type": "stream",
     "text": [
      "뉴스기사의 단어수는:  452 개이다\n"
     ]
    }
   ],
   "source": [
    "print(\"뉴스기사의 단어수는: \", df['단어'].count() ,\"개이다\")"
   ]
  },
  {
   "cell_type": "markdown",
   "metadata": {},
   "source": [
    "## 5. 문장의 평균 길이를 계산하세요."
   ]
  },
  {
   "cell_type": "code",
   "execution_count": 13,
   "metadata": {},
   "outputs": [
    {
     "name": "stdout",
     "output_type": "stream",
     "text": [
      "문장의 평균길이는 : 60.68421052631579\n"
     ]
    }
   ],
   "source": [
    "# . 을 기준으로 sentence 구분. 각 sentence의 길이 계산하여 평균\n",
    "sentence_list = [sentence for sentence in content_text.split('. ') if sentence]\n",
    "mean_sent_len = np.mean(list((map(lambda x : len(x), sentence_list))))\n",
    "print(\"문장의 평균길이는 :\", mean_sent_len)"
   ]
  },
  {
   "cell_type": "markdown",
   "metadata": {},
   "source": [
    "## 6. 기사의 감정을 분석하기 위해 긍정적인 단어와 부정적인 단어의 빈도를 계산하세요. (긍정적인 단어 목록과 부정적인 단어 목록을 정의하세요)"
   ]
  },
  {
   "cell_type": "code",
   "execution_count": 14,
   "metadata": {},
   "outputs": [],
   "source": [
    "with open('./SentiWord_info.json', encoding='utf-8-sig', mode='r') as f:\n",
    "  SentiWord_info = json.load(f)\n",
    "\n",
    "sentiword_dic = pd.DataFrame(SentiWord_info)\n",
    "\n",
    "positive = sentiword_dic[sentiword_dic['polarity']=='1']\n",
    "negative = sentiword_dic[sentiword_dic['polarity']=='-1']"
   ]
  },
  {
   "cell_type": "code",
   "execution_count": 17,
   "metadata": {},
   "outputs": [
    {
     "name": "stdout",
     "output_type": "stream",
     "text": [
      "긍정 단어 개수: 20\n",
      "부정 단어 개수: 29\n"
     ]
    }
   ],
   "source": [
    "num_pos = 0\n",
    "num_nag = 0\n",
    "\n",
    "for t in df['단어']:\n",
    "  if t in positive['word'].values or t in positive['word_root'].values:\n",
    "    num_pos += 1\n",
    "  elif t in negative['word'].values or t in negative['word_root'].values:\n",
    "    num_nag += 1\n",
    "\n",
    "print('긍정 단어 개수:',num_pos)\n",
    "print('부정 단어 개수:',num_nag)"
   ]
  },
  {
   "cell_type": "markdown",
   "metadata": {},
   "source": [
    "## 7. 뉴스 기사의 주제나 주요 토픽을 분석하기 위해 가장 많이 등장하는 명사를 찾아 출력하세요."
   ]
  },
  {
   "cell_type": "markdown",
   "metadata": {},
   "source": []
  },
  {
   "cell_type": "code",
   "execution_count": null,
   "metadata": {},
   "outputs": [
    {
     "name": "stdout",
     "output_type": "stream",
     "text": [
      "가장 많이 등장하는 단어는 '씨' 이고 6번 등장함.\n"
     ]
    }
   ],
   "source": [
    "noun_df = df[df['품사']== \"Noun\"]\n",
    "word, num = pd.DataFrame(noun_df[\"단어\"].value_counts()).reset_index().iloc[0]\n",
    "\n",
    "print(\"가장 많이 등장하는 단어는 '\", word, \"' 이고 \", num, \"번 등장함.\", sep=\"\")"
   ]
  },
  {
   "cell_type": "markdown",
   "metadata": {},
   "source": [
    "## 8. 크롤링한 기사를 요약하는 알고리즘을 개발하고, 기사의 요약된 내용을 출력하세요.(딥/머신러닝팀만 해당)\n",
    "\n",
    "## 알고리즘 1.\n",
    "\n",
    "[참고자료]\n",
    "\n",
    "https://www.dinolabs.ai/288\n"
   ]
  },
  {
   "cell_type": "markdown",
   "metadata": {},
   "source": [
    "### 자연어 처리 \n",
    "문장내의 단어들을 모두 명사로 대치하는 작업"
   ]
  },
  {
   "cell_type": "code",
   "execution_count": null,
   "metadata": {},
   "outputs": [
    {
     "data": {
      "text/plain": [
       "['\\n\\n\\n\\n\\n아이스 아메리카노[자료 사진]    (서울=연합뉴스) 김대호 기자 = 항공기 기내에서 제공하는 커피를 마시다 예리하고 커다란 유리 조각이 나와 승객들이 매우 놀랐다',\n",
       " '    17일 연합뉴스 취재를 종합하면 인천에 사는 A씨는 지난 1일 중국 광저우발 대한항공을 타고 인천공항으로 귀국하면서 기내식을 먹고 후식으로 아이스 커피를 마시다 이상한 식감을 느꼈다',\n",
       " '이와 입술 사이에 껴 있던 이물질을 뱉어보니 길이 0.5cm, 두께 0.1cm 이상 돼 보이는 날카로운 유리 조각이었다고 한다',\n",
       " '승무원이 확인한 결과 커피를 담은 유리잔이 깨진 것이었다',\n",
       " '   A씨는 이미 유리 조각을 삼켰을 가능성이 있어 승무원의 안내에 따라 화장실에서 음식물을 모두 토해냈다',\n",
       " '그는 다행히 입국 이후 별문제가 발생하지 않았지만, 추석 연휴 등을 앞두고 해외 여행객들이 늘어나는 시기여서 항공사의 안전의식 제고가 필요하다고 생각하고 항공사에 이번 일을 스스로 언론에 알리고 예방책을 마련하라고 요구했다',\n",
       " 'A씨는 보상이나 치료비도 원하지 않는다고 밝혔다',\n",
       " \"    그러나 항공사 측은 A씨의 '언론 공개' 요구를 받아들이지 않고 치료비와 10만원 전자 우대 할인권 제공 등만 안내했다고 한다\",\n",
       " '또 광저우에서 기내식과 기내 용품 공급을 담당한 업체를 대상으로 경위를 조사하고 있다고 밝혔다',\n",
       " '    A씨는 \"기내 화장실에서 음식물을 토해내면서 죽는 줄 알았다',\n",
       " '옆자리에 탑승한 다른 승객도 아주 걱정스러워했으며 집에 돌아와 이틀간 계속 헛구역질을 했다',\n",
       " '항공기 사무장이 중대 사안이라 회사에 직접 보고하겠다고 밝혔지만 이후 항공사 측에서 사과 전화 한 통 없었다\"고 주장했다',\n",
       " '   그는 \"커피라서 한 모금씩 마시다 유리 조각을 발견했지만 아마 음료수였으면 벌컥 마시다 삼켰을지도 모른다',\n",
       " '경각심 차원에서 대한항공 대표이사에게도 문제를 지적하고 대책 마련을 촉구하는 내용증명을 발송했다\"고 밝혔다',\n",
       " '\\n\\n\\n\\n대한항공이 고객에게 보낸 이메일[제보자 A씨 제공',\n",
       " '재판매 및 DB 금지]    대한항공 관계자는 \"승객에게 사과와 함께 필요시 치료비와 전자 우대할인권 제공 등 보상에 대해 안내해드렸다',\n",
       " '유사사례 재발 방지를 위해 기내식 공급업체에 경위 조사를 진행하고 기내식 기물 파손 여부에 대한 검수 절차를 강화하겠다',\n",
       " '객실 기내 음료 서비스 전에는 맨눈으로 추가 검수 후 서비스를 제공하도록 했다\"고 설명했다',\n",
       " '    daeho@yna.co.kr\\n']"
      ]
     },
     "execution_count": 8,
     "metadata": {},
     "output_type": "execute_result"
    }
   ],
   "source": [
    "sentence_list"
   ]
  },
  {
   "cell_type": "code",
   "execution_count": null,
   "metadata": {},
   "outputs": [
    {
     "data": {
      "text/plain": [
       "['아이스 아메리카노 자료 김대호 기자 항공기 기내 제공 커피 유리 조각 승객 매우',\n",
       " '취재 종합 인천 지난 중국 광저우 대한항공 타고 인천공항 귀국 기내식 후식 아이스 커피 식감',\n",
       " '입술 사이 물질 길이 두께 이상 유리 조각',\n",
       " '승무원 확인 결과 커피 유리잔',\n",
       " '유리 조각 가능성 승무원 안내 화장실 음식물 모두',\n",
       " '입국 이후 별문제 발생 추석 연휴 해외 여행객 시기 항공사 안전 의식 고가 생각 항공사 이번 스스로 언론 알리 방책 마련 요구',\n",
       " '보상 치료 비도',\n",
       " '항공사 측은 언론 공개 요구 치료 전자 우대 할인 제공',\n",
       " '광저우 기내식 기내 용품 공급 담당 업체 대상 경위 조사',\n",
       " '기내 화장실 음식물',\n",
       " '탑승 다른 승객 아주 이틀 계속 헛구역질',\n",
       " '항공기 사무장 중대 사안 회사 직접 보고 이후 항공사 사과 전화 주장',\n",
       " '커피 모금 유리 조각 발견 아마 음료수 벌컥',\n",
       " '각심 차원 대한항공 대표이사 문제 지적 대책 마련 촉구 내용증명 발송',\n",
       " '대한항공 고객 이메일 제보자 제공',\n",
       " '재판매 금지 대한항공 관계자 승객 사과 필요시 치료 전자 우대 할인 제공 보상 대해 안내',\n",
       " '유사 사례 재발 방지 위해 기내식 공급 업체 경위 조사 진행 기내식 기물 파손 여부 대한 검수 절차',\n",
       " '객실 기내 음료 서비스 맨눈 추가 검수 서비스 제공 설명',\n",
       " '']"
      ]
     },
     "execution_count": 9,
     "metadata": {},
     "output_type": "execute_result"
    }
   ],
   "source": [
    "stopwords = [\"\\n\\n\\n\\n\\n\", \"사진\", \"서울\", \"연합뉴스\",\"Applications\"]\n",
    "def get_nouns(sentences):\n",
    "    nouns = []\n",
    "    for sentence in sentences :\n",
    "        if sentence != '':\n",
    "            nouns.append(' '.join([noun for noun in okt.nouns(str(sentence))\n",
    "                                   if noun not in stopwords and len(noun) > 1]))\n",
    "    return nouns\n",
    "\n",
    "nouns = get_nouns(sentence_list)\n",
    "nouns"
   ]
  },
  {
   "cell_type": "markdown",
   "metadata": {},
   "source": [
    "### TF-IDF 벡터화"
   ]
  },
  {
   "cell_type": "code",
   "execution_count": null,
   "metadata": {},
   "outputs": [
    {
     "name": "stdout",
     "output_type": "stream",
     "text": [
      "(19, 19)\n",
      "{'아이스': 63, '아메리카노': 62, '자료': 93, '김대호': 20, '기자': 18}\n",
      "{63: '아이스', 62: '아메리카노', 93: '자료', 20: '김대호', 18: '기자'}\n"
     ]
    }
   ],
   "source": [
    "# 문자열을 수치 형태로 표현하기 위해 TF-IDF 벡터 활용\n",
    "tfid = TfidfVectorizer()\n",
    "content_tfid = tfid.fit_transform(nouns).toarray()\n",
    "graph_sentence = np.dot(content_tfid,content_tfid.T)\n",
    "print(graph_sentence.shape)\n",
    "\n",
    "\n",
    "## 참고 - TF-IDF 변환된 텍스트를 해석하거나 분석할 때, 숫자로 표현된 단어가 아닌 원래 텍스트 단어로 복원하기 위함\n",
    "vocab = tfid.vocabulary_\n",
    "print({ k : v for i , (k, v) in enumerate(vocab.items()) if i < 5})\n",
    "# 단어들의 사전 인덱스를 이용하여 원래 단어를 검색하는 매핑 딕셔너리\n",
    "index_to_word = { v : k  for k , v in vocab.items() }\n",
    "print( { k : v  for i, (k,v) in enumerate(index_to_word.items())  if i < 5 })"
   ]
  },
  {
   "cell_type": "markdown",
   "metadata": {},
   "source": [
    "### textRank 구현하기\n",
    "\n",
    "위에서 구한 가중치 그래프를 이용하여 textrank 알고리즘에 넣어 점수를 매기고, 순위가 높은 순으로 정렬한 뒤, 요약할 문자의 개수 만큼 출력해주기.\n"
   ]
  },
  {
   "cell_type": "code",
   "execution_count": null,
   "metadata": {},
   "outputs": [],
   "source": [
    "def get_ranks(graph, d = 0.85):\n",
    "    A = graph\n",
    "    matrix_size = A.shape[0]\n",
    "    for id in range(matrix_size):\n",
    "        A[id, id] = 0 # diagonal 부분을 0 으로\n",
    "        link_sum = np.sum(A[:,id]) # A[:,id] = A[:][id]\n",
    "        if link_sum != 0 :\n",
    "            A[:,id] /= link_sum\n",
    "        A[:,id] *= -d\n",
    "        A[id,id] = 1\n",
    "    \n",
    "    B = (1-d) * np.ones((matrix_size, 1))\n",
    "    ranks = np.linalg.solve(A,B) # 연립방정식 Ax = b\n",
    "    return {idx: r[0] for idx, r in enumerate(ranks)}\n",
    "\n"
   ]
  },
  {
   "cell_type": "code",
   "execution_count": null,
   "metadata": {},
   "outputs": [],
   "source": [
    "sent_rank_idx = get_ranks(graph_sentence)\n",
    "\n",
    "# 점수가 큰 값부터 나열\n",
    "sorted_sent_rank_idx = sorted(sent_rank_idx, key = lambda k : sent_rank_idx[k], reverse = True)"
   ]
  },
  {
   "cell_type": "markdown",
   "metadata": {},
   "source": [
    "### 요약하기\n",
    "기사본문에 대해서 각 문장과 단어마다의 점수를 매기고, 인덱스 값을 정렬했음\n",
    "\n",
    "-> textRank 값이 높은 문장들을 출력해주면 됨\n",
    "\n"
   ]
  },
  {
   "cell_type": "code",
   "execution_count": null,
   "metadata": {},
   "outputs": [],
   "source": [
    "def summarize(sent_num = 5):\n",
    "    summary = []\n",
    "    index = []\n",
    "    for idx in sorted_sent_rank_idx[:sent_num]:\n",
    "        index.append(idx)\n",
    "\n",
    "    index.sort()\n",
    "\n",
    "    for idx in index:\n",
    "        summary.append(sentence_list[idx])\n",
    "\n",
    "    for text in summary :\n",
    "        print(text)\n",
    "        print(\"\\n\")"
   ]
  },
  {
   "cell_type": "code",
   "execution_count": null,
   "metadata": {},
   "outputs": [
    {
     "name": "stdout",
     "output_type": "stream",
     "text": [
      "\n",
      "\n",
      "\n",
      "\n",
      "\n",
      "아이스 아메리카노[자료 사진]    (서울=연합뉴스) 김대호 기자 = 항공기 기내에서 제공하는 커피를 마시다 예리하고 커다란 유리 조각이 나와 승객들이 매우 놀랐다\n",
      "\n",
      "\n",
      "   A씨는 이미 유리 조각을 삼켰을 가능성이 있어 승무원의 안내에 따라 화장실에서 음식물을 모두 토해냈다\n",
      "\n",
      "\n",
      "    그러나 항공사 측은 A씨의 '언론 공개' 요구를 받아들이지 않고 치료비와 10만원 전자 우대 할인권 제공 등만 안내했다고 한다\n",
      "\n",
      "\n",
      "또 광저우에서 기내식과 기내 용품 공급을 담당한 업체를 대상으로 경위를 조사하고 있다고 밝혔다\n",
      "\n",
      "\n",
      "재판매 및 DB 금지]    대한항공 관계자는 \"승객에게 사과와 함께 필요시 치료비와 전자 우대할인권 제공 등 보상에 대해 안내해드렸다\n",
      "\n",
      "\n"
     ]
    }
   ],
   "source": [
    "summarize()"
   ]
  },
  {
   "cell_type": "markdown",
   "metadata": {},
   "source": [
    "## 알고리즘 2. \n",
    "\n",
    "참고 https://hoonzi-text.tistory.com/68"
   ]
  },
  {
   "cell_type": "code",
   "execution_count": 22,
   "metadata": {},
   "outputs": [
    {
     "data": {
      "text/html": [
       "<div>\n",
       "<style scoped>\n",
       "    .dataframe tbody tr th:only-of-type {\n",
       "        vertical-align: middle;\n",
       "    }\n",
       "\n",
       "    .dataframe tbody tr th {\n",
       "        vertical-align: top;\n",
       "    }\n",
       "\n",
       "    .dataframe thead th {\n",
       "        text-align: right;\n",
       "    }\n",
       "</style>\n",
       "<table border=\"1\" class=\"dataframe\">\n",
       "  <thead>\n",
       "    <tr style=\"text-align: right;\">\n",
       "      <th></th>\n",
       "      <th>sentence</th>\n",
       "      <th>token_list</th>\n",
       "      <th>noun_list</th>\n",
       "    </tr>\n",
       "  </thead>\n",
       "  <tbody>\n",
       "    <tr>\n",
       "      <th>0</th>\n",
       "      <td>\\n\\n\\n\\n\\n아이스 아메리카노자료 사진    서울연합뉴스 김대호 기자  항공기...</td>\n",
       "      <td>[\\n\\n\\n\\n\\n, 아이스, 아메리카노, 자료, 사진, 서울, 연합뉴스, 김대호...</td>\n",
       "      <td>[아이스, 아메리카노, 자료, 사진, 서울, 연합뉴스, 김대호, 기자, 항공기, 기...</td>\n",
       "    </tr>\n",
       "    <tr>\n",
       "      <th>1</th>\n",
       "      <td>17일 연합뉴스 취재를 종합하면 인천에 사는 A씨는 지난 1일 중국 광저우발...</td>\n",
       "      <td>[17일, 연합뉴스, 취재, 를, 종합, 하면, 인천, 에, 사는, A, 씨, 는,...</td>\n",
       "      <td>[연합뉴스, 취재, 종합, 인천, 씨, 지난, 중국, 광저우, 발, 대한항공, 타고...</td>\n",
       "    </tr>\n",
       "    <tr>\n",
       "      <th>2</th>\n",
       "      <td>이와 입술 사이에 껴 있던 이물질을 뱉어보니 길이 05cm 두께 01cm 이상 돼 ...</td>\n",
       "      <td>[이, 와, 입술, 사이, 에, 껴, 있던, 이, 물질, 을, 뱉어, 보니, 길이,...</td>\n",
       "      <td>[이, 입술, 사이, 물질, 길이, 두께, 이상, 유리, 조각]</td>\n",
       "    </tr>\n",
       "    <tr>\n",
       "      <th>3</th>\n",
       "      <td>승무원이 확인한 결과 커피를 담은 유리잔이 깨진 것이었다</td>\n",
       "      <td>[승무원, 이, 확인, 한, 결과, 커피, 를, 담은, 유리잔, 이, 깨진, 것, ...</td>\n",
       "      <td>[승무원, 확인, 결과, 커피, 유리잔, 것]</td>\n",
       "    </tr>\n",
       "    <tr>\n",
       "      <th>4</th>\n",
       "      <td>A씨는 이미 유리 조각을 삼켰을 가능성이 있어 승무원의 안내에 따라 화장실에서...</td>\n",
       "      <td>[A, 씨, 는, 이미, 유리, 조각, 을, 삼켰을, 가능성, 이, 있어, 승무원,...</td>\n",
       "      <td>[씨, 유리, 조각, 가능성, 승무원, 안내, 화장실, 음식물, 모두, 토]</td>\n",
       "    </tr>\n",
       "    <tr>\n",
       "      <th>5</th>\n",
       "      <td>그는 다행히 입국 이후 별문제가 발생하지 않았지만 추석 연휴 등을 앞두고 해외 여행...</td>\n",
       "      <td>[그, 는, 다행히, 입국, 이후, 별문제, 가, 발생, 하지, 않았지만, 추석, ...</td>\n",
       "      <td>[그, 입국, 이후, 별문제, 발생, 추석, 연휴, 등, 해외, 여행객, 시기, 항...</td>\n",
       "    </tr>\n",
       "    <tr>\n",
       "      <th>6</th>\n",
       "      <td>A씨는 보상이나 치료비도 원하지 않는다고 밝혔다</td>\n",
       "      <td>[A, 씨, 는, 보상, 이나, 치료, 비도, 원하지, 않는다고, 밝혔다]</td>\n",
       "      <td>[씨, 보상, 치료, 비도]</td>\n",
       "    </tr>\n",
       "    <tr>\n",
       "      <th>7</th>\n",
       "      <td>그러나 항공사 측은 A씨의 언론 공개 요구를 받아들이지 않고 치료비와 10만...</td>\n",
       "      <td>[그러나, 항공사, 측은, A, 씨, 의, 언론, 공개, 요구, 를, 받아들이지, ...</td>\n",
       "      <td>[항공사, 측은, 씨, 언론, 공개, 요구, 치료, 비, 전자, 우대, 할인, 제공...</td>\n",
       "    </tr>\n",
       "    <tr>\n",
       "      <th>8</th>\n",
       "      <td>또 광저우에서 기내식과 기내 용품 공급을 담당한 업체를 대상으로 경위를 조사하고 있...</td>\n",
       "      <td>[또, 광저우, 에서, 기내식, 과, 기내, 용품, 공급, 을, 담당, 한, 업체,...</td>\n",
       "      <td>[또, 광저우, 기내식, 기내, 용품, 공급, 담당, 업체, 대상, 경위, 조사]</td>\n",
       "    </tr>\n",
       "    <tr>\n",
       "      <th>9</th>\n",
       "      <td>A씨는 기내 화장실에서 음식물을 토해내면서 죽는 줄 알았다</td>\n",
       "      <td>[A, 씨, 는, 기내, 화장실, 에서, 음식물, 을, 토, 해내면서, 죽는, 줄,...</td>\n",
       "      <td>[씨, 기내, 화장실, 음식물, 토, 줄]</td>\n",
       "    </tr>\n",
       "    <tr>\n",
       "      <th>10</th>\n",
       "      <td>옆자리에 탑승한 다른 승객도 아주 걱정스러워했으며 집에 돌아와 이틀간 계속 헛구역질...</td>\n",
       "      <td>[옆, 자리, 에, 탑승, 한, 다른, 승객, 도, 아주, 걱정스러워, 했으며, 집...</td>\n",
       "      <td>[옆, 탑승, 다른, 승객, 아주, 집, 이틀, 계속, 헛구역질]</td>\n",
       "    </tr>\n",
       "    <tr>\n",
       "      <th>11</th>\n",
       "      <td>항공기 사무장이 중대 사안이라 회사에 직접 보고하겠다고 밝혔지만 이후 항공사 측에서...</td>\n",
       "      <td>[항공기, 사무장, 이, 중대, 사안, 이라, 회사, 에, 직접, 보고, 하겠다고,...</td>\n",
       "      <td>[항공기, 사무장, 중대, 사안, 회사, 직접, 보고, 이후, 항공사, 측, 사과,...</td>\n",
       "    </tr>\n",
       "    <tr>\n",
       "      <th>12</th>\n",
       "      <td>그는 커피라서 한 모금씩 마시다 유리 조각을 발견했지만 아마 음료수였으면 벌컥...</td>\n",
       "      <td>[그, 는, 커피, 라서, 한, 모금, 씩, 마시다, 유리, 조각, 을, 발견, 했...</td>\n",
       "      <td>[그, 커피, 모금, 유리, 조각, 발견, 아마, 음료수, 벌컥]</td>\n",
       "    </tr>\n",
       "    <tr>\n",
       "      <th>13</th>\n",
       "      <td>경각심 차원에서 대한항공 대표이사에게도 문제를 지적하고 대책 마련을 촉구하는 내용증...</td>\n",
       "      <td>[경, 각심, 차원, 에서, 대한항공, 대표이사, 에게도, 문제, 를, 지적, 하고...</td>\n",
       "      <td>[각심, 차원, 대한항공, 대표이사, 문제, 지적, 대책, 마련, 촉구, 내용증명,...</td>\n",
       "    </tr>\n",
       "    <tr>\n",
       "      <th>14</th>\n",
       "      <td>\\n\\n\\n\\n대한항공이 고객에게 보낸 이메일제보자 A씨 제공</td>\n",
       "      <td>[\\n\\n\\n\\n, 대한항공, 이, 고객, 에게, 보낸, 이메일, 제보자, A, 씨...</td>\n",
       "      <td>[대한항공, 고객, 이메일, 제보자, 씨, 제공]</td>\n",
       "    </tr>\n",
       "    <tr>\n",
       "      <th>15</th>\n",
       "      <td>재판매 및 DB 금지    대한항공 관계자는 승객에게 사과와 함께 필요시 치료비와 ...</td>\n",
       "      <td>[재판매, 및, DB, 금지, 대한항공, 관계자, 는, 승객, 에게, 사과, 와, ...</td>\n",
       "      <td>[재판매, 및, 금지, 대한항공, 관계자, 승객, 사과, 필요시, 치료, 비, 전자...</td>\n",
       "    </tr>\n",
       "    <tr>\n",
       "      <th>16</th>\n",
       "      <td>유사사례 재발 방지를 위해 기내식 공급업체에 경위 조사를 진행하고 기내식 기물 파손...</td>\n",
       "      <td>[유사, 사례, 재발, 방지, 를, 위해, 기내식, 공급, 업체, 에, 경위, 조사...</td>\n",
       "      <td>[유사, 사례, 재발, 방지, 위해, 기내식, 공급, 업체, 경위, 조사, 진행, ...</td>\n",
       "    </tr>\n",
       "    <tr>\n",
       "      <th>17</th>\n",
       "      <td>객실 기내 음료 서비스 전에는 맨눈으로 추가 검수 후 서비스를 제공하도록 했다고 설명했다</td>\n",
       "      <td>[객실, 기내, 음료, 서비스, 전, 에는, 맨눈, 으로, 추가, 검수, 후, 서비...</td>\n",
       "      <td>[객실, 기내, 음료, 서비스, 전, 맨눈, 추가, 검수, 후, 서비스, 제공, 설명]</td>\n",
       "    </tr>\n",
       "    <tr>\n",
       "      <th>18</th>\n",
       "      <td>daehoynacokr\\n</td>\n",
       "      <td>[daehoynacokr, \\n]</td>\n",
       "      <td>[]</td>\n",
       "    </tr>\n",
       "  </tbody>\n",
       "</table>\n",
       "</div>"
      ],
      "text/plain": [
       "                                             sentence   \n",
       "0   \\n\\n\\n\\n\\n아이스 아메리카노자료 사진    서울연합뉴스 김대호 기자  항공기...  \\\n",
       "1       17일 연합뉴스 취재를 종합하면 인천에 사는 A씨는 지난 1일 중국 광저우발...   \n",
       "2   이와 입술 사이에 껴 있던 이물질을 뱉어보니 길이 05cm 두께 01cm 이상 돼 ...   \n",
       "3                     승무원이 확인한 결과 커피를 담은 유리잔이 깨진 것이었다   \n",
       "4      A씨는 이미 유리 조각을 삼켰을 가능성이 있어 승무원의 안내에 따라 화장실에서...   \n",
       "5   그는 다행히 입국 이후 별문제가 발생하지 않았지만 추석 연휴 등을 앞두고 해외 여행...   \n",
       "6                          A씨는 보상이나 치료비도 원하지 않는다고 밝혔다   \n",
       "7       그러나 항공사 측은 A씨의 언론 공개 요구를 받아들이지 않고 치료비와 10만...   \n",
       "8   또 광저우에서 기내식과 기내 용품 공급을 담당한 업체를 대상으로 경위를 조사하고 있...   \n",
       "9                    A씨는 기내 화장실에서 음식물을 토해내면서 죽는 줄 알았다   \n",
       "10  옆자리에 탑승한 다른 승객도 아주 걱정스러워했으며 집에 돌아와 이틀간 계속 헛구역질...   \n",
       "11  항공기 사무장이 중대 사안이라 회사에 직접 보고하겠다고 밝혔지만 이후 항공사 측에서...   \n",
       "12     그는 커피라서 한 모금씩 마시다 유리 조각을 발견했지만 아마 음료수였으면 벌컥...   \n",
       "13  경각심 차원에서 대한항공 대표이사에게도 문제를 지적하고 대책 마련을 촉구하는 내용증...   \n",
       "14                 \\n\\n\\n\\n대한항공이 고객에게 보낸 이메일제보자 A씨 제공   \n",
       "15  재판매 및 DB 금지    대한항공 관계자는 승객에게 사과와 함께 필요시 치료비와 ...   \n",
       "16  유사사례 재발 방지를 위해 기내식 공급업체에 경위 조사를 진행하고 기내식 기물 파손...   \n",
       "17  객실 기내 음료 서비스 전에는 맨눈으로 추가 검수 후 서비스를 제공하도록 했다고 설명했다   \n",
       "18                                     daehoynacokr\\n   \n",
       "\n",
       "                                           token_list   \n",
       "0   [\\n\\n\\n\\n\\n, 아이스, 아메리카노, 자료, 사진, 서울, 연합뉴스, 김대호...  \\\n",
       "1   [17일, 연합뉴스, 취재, 를, 종합, 하면, 인천, 에, 사는, A, 씨, 는,...   \n",
       "2   [이, 와, 입술, 사이, 에, 껴, 있던, 이, 물질, 을, 뱉어, 보니, 길이,...   \n",
       "3   [승무원, 이, 확인, 한, 결과, 커피, 를, 담은, 유리잔, 이, 깨진, 것, ...   \n",
       "4   [A, 씨, 는, 이미, 유리, 조각, 을, 삼켰을, 가능성, 이, 있어, 승무원,...   \n",
       "5   [그, 는, 다행히, 입국, 이후, 별문제, 가, 발생, 하지, 않았지만, 추석, ...   \n",
       "6           [A, 씨, 는, 보상, 이나, 치료, 비도, 원하지, 않는다고, 밝혔다]   \n",
       "7   [그러나, 항공사, 측은, A, 씨, 의, 언론, 공개, 요구, 를, 받아들이지, ...   \n",
       "8   [또, 광저우, 에서, 기내식, 과, 기내, 용품, 공급, 을, 담당, 한, 업체,...   \n",
       "9   [A, 씨, 는, 기내, 화장실, 에서, 음식물, 을, 토, 해내면서, 죽는, 줄,...   \n",
       "10  [옆, 자리, 에, 탑승, 한, 다른, 승객, 도, 아주, 걱정스러워, 했으며, 집...   \n",
       "11  [항공기, 사무장, 이, 중대, 사안, 이라, 회사, 에, 직접, 보고, 하겠다고,...   \n",
       "12  [그, 는, 커피, 라서, 한, 모금, 씩, 마시다, 유리, 조각, 을, 발견, 했...   \n",
       "13  [경, 각심, 차원, 에서, 대한항공, 대표이사, 에게도, 문제, 를, 지적, 하고...   \n",
       "14  [\\n\\n\\n\\n, 대한항공, 이, 고객, 에게, 보낸, 이메일, 제보자, A, 씨...   \n",
       "15  [재판매, 및, DB, 금지, 대한항공, 관계자, 는, 승객, 에게, 사과, 와, ...   \n",
       "16  [유사, 사례, 재발, 방지, 를, 위해, 기내식, 공급, 업체, 에, 경위, 조사...   \n",
       "17  [객실, 기내, 음료, 서비스, 전, 에는, 맨눈, 으로, 추가, 검수, 후, 서비...   \n",
       "18                                 [daehoynacokr, \\n]   \n",
       "\n",
       "                                            noun_list  \n",
       "0   [아이스, 아메리카노, 자료, 사진, 서울, 연합뉴스, 김대호, 기자, 항공기, 기...  \n",
       "1   [연합뉴스, 취재, 종합, 인천, 씨, 지난, 중국, 광저우, 발, 대한항공, 타고...  \n",
       "2                 [이, 입술, 사이, 물질, 길이, 두께, 이상, 유리, 조각]  \n",
       "3                           [승무원, 확인, 결과, 커피, 유리잔, 것]  \n",
       "4          [씨, 유리, 조각, 가능성, 승무원, 안내, 화장실, 음식물, 모두, 토]  \n",
       "5   [그, 입국, 이후, 별문제, 발생, 추석, 연휴, 등, 해외, 여행객, 시기, 항...  \n",
       "6                                     [씨, 보상, 치료, 비도]  \n",
       "7   [항공사, 측은, 씨, 언론, 공개, 요구, 치료, 비, 전자, 우대, 할인, 제공...  \n",
       "8       [또, 광저우, 기내식, 기내, 용품, 공급, 담당, 업체, 대상, 경위, 조사]  \n",
       "9                             [씨, 기내, 화장실, 음식물, 토, 줄]  \n",
       "10               [옆, 탑승, 다른, 승객, 아주, 집, 이틀, 계속, 헛구역질]  \n",
       "11  [항공기, 사무장, 중대, 사안, 회사, 직접, 보고, 이후, 항공사, 측, 사과,...  \n",
       "12               [그, 커피, 모금, 유리, 조각, 발견, 아마, 음료수, 벌컥]  \n",
       "13  [각심, 차원, 대한항공, 대표이사, 문제, 지적, 대책, 마련, 촉구, 내용증명,...  \n",
       "14                        [대한항공, 고객, 이메일, 제보자, 씨, 제공]  \n",
       "15  [재판매, 및, 금지, 대한항공, 관계자, 승객, 사과, 필요시, 치료, 비, 전자...  \n",
       "16  [유사, 사례, 재발, 방지, 위해, 기내식, 공급, 업체, 경위, 조사, 진행, ...  \n",
       "17   [객실, 기내, 음료, 서비스, 전, 맨눈, 추가, 검수, 후, 서비스, 제공, 설명]  \n",
       "18                                                 []  "
      ]
     },
     "execution_count": 22,
     "metadata": {},
     "output_type": "execute_result"
    }
   ],
   "source": [
    "data = []\n",
    "for s in sentence_list:\n",
    "    if(s == \"\" or len(s) <= 2):\n",
    "        continue\n",
    "    temp_dict = {}\n",
    "    sub_sent = re.sub(r'[^\\uAC00-\\uD7A30-9a-zA-Z\\s]', '', s)\n",
    "    temp_dict['sentence'] = sub_sent\n",
    "    temp_dict['token_list'] = okt.morphs(sub_sent)\n",
    "    temp_dict['noun_list'] = okt.nouns(sub_sent)\n",
    "    data.append(temp_dict)\n",
    "\n",
    "df = pd.DataFrame(data)\n",
    "df"
   ]
  },
  {
   "cell_type": "code",
   "execution_count": 23,
   "metadata": {},
   "outputs": [],
   "source": [
    "# sentence similarity = len(intersection) / log(len(set_A)) + log(len(set_B))\n",
    "# 문장 유사도 계산\n",
    "similarity_matrix = []\n",
    "for i, row_i in df.iterrows():\n",
    "    i_row_vec = []\n",
    "    for j, row_j in df.iterrows():\n",
    "        if i == j:\n",
    "            i_row_vec.append(0.0)\n",
    "        else:\n",
    "            intersection = len(set(row_i['token_list']) & set(row_j['token_list']))\n",
    "            log_i = math.log(len(set(row_i['token_list'])))\n",
    "            log_j = math.log(len(set(row_j['token_list'])))\n",
    "            similarity = intersection / (log_i + log_j+1)\n",
    "            i_row_vec.append(similarity)\n",
    "    similarity_matrix.append(i_row_vec)"
   ]
  },
  {
   "cell_type": "code",
   "execution_count": 27,
   "metadata": {},
   "outputs": [],
   "source": [
    "weight = np.array(similarity_matrix)\n",
    "\n",
    "from sklearn.preprocessing import normalize\n",
    "#문장별 랭크 계산\n",
    "def pagerank(x, df=0.85, max_iter=30):\n",
    "    assert 0 < df < 1\n",
    "\n",
    "    # initialize\n",
    "    A = normalize(x, axis=0, norm='l1')\n",
    "    R = np.ones(A.shape[0]).reshape(-1,1)\n",
    "    bias = (1 - df) * np.ones(A.shape[0]).reshape(-1,1)\n",
    "    # iteration\n",
    "    for _ in range(max_iter):\n",
    "        R = df * (A * R) + bias\n",
    "\n",
    "    return R"
   ]
  },
  {
   "cell_type": "code",
   "execution_count": 28,
   "metadata": {},
   "outputs": [
    {
     "name": "stdout",
     "output_type": "stream",
     "text": [
      "\n",
      "\n",
      "\n",
      "\n",
      "\n",
      "아이스 아메리카노자료 사진    서울연합뉴스 김대호 기자  항공기 기내에서 제공하는 커피를 마시다 예리하고 커다란 유리 조각이 나와 승객들이 매우 놀랐다\n",
      "    17일 연합뉴스 취재를 종합하면 인천에 사는 A씨는 지난 1일 중국 광저우발 대한항공을 타고 인천공항으로 귀국하면서 기내식을 먹고 후식으로 아이스 커피를 마시다 이상한 식감을 느꼈다\n",
      "   A씨는 이미 유리 조각을 삼켰을 가능성이 있어 승무원의 안내에 따라 화장실에서 음식물을 모두 토해냈다\n",
      "    그러나 항공사 측은 A씨의 언론 공개 요구를 받아들이지 않고 치료비와 10만원 전자 우대 할인권 제공 등만 안내했다고 한다\n",
      "또 광저우에서 기내식과 기내 용품 공급을 담당한 업체를 대상으로 경위를 조사하고 있다고 밝혔다\n"
     ]
    }
   ],
   "source": [
    "R = pagerank(weight) # pagerank를 돌려서 rank matrix 반환\n",
    "R = R.sum(axis=1) # 반환된 matrix를 row 별로 sum\n",
    "indexs = R.argsort()[-5:] # 값이 높은 3개의 문장 index를 반환\n",
    "\n",
    "for index in sorted(indexs):\n",
    "    print(df['sentence'][index])"
   ]
  }
 ],
 "metadata": {
  "kernelspec": {
   "display_name": "base",
   "language": "python",
   "name": "python3"
  },
  "language_info": {
   "codemirror_mode": {
    "name": "ipython",
    "version": 3
   },
   "file_extension": ".py",
   "mimetype": "text/x-python",
   "name": "python",
   "nbconvert_exporter": "python",
   "pygments_lexer": "ipython3",
   "version": "3.8.16"
  },
  "orig_nbformat": 4
 },
 "nbformat": 4,
 "nbformat_minor": 2
}
